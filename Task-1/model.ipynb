{
 "cells": [
  {
   "cell_type": "code",
   "execution_count": 1,
   "metadata": {},
   "outputs": [],
   "source": [
    "import matplotlib.pyplot as plt\n",
    "import numpy as np\n",
    "import pandas as pd\n",
    "\n",
    "from sklearn.feature_selection import SelectKBest, f_classif\n",
    "\n",
    "from sklearn.tree import DecisionTreeClassifier\n",
    "from sklearn import tree\n",
    "from sklearn.naive_bayes import GaussianNB\n",
    "from sklearn.svm import SVC\n",
    "from sklearn.linear_model import Perceptron\n",
    "from sklearn.linear_model import LogisticRegression\n",
    "from sklearn.neighbors import KNeighborsClassifier\n",
    "\n",
    "from sklearn.model_selection import train_test_split, GridSearchCV\n",
    "from sklearn.metrics import accuracy_score, roc_curve, auc, roc_auc_score, make_scorer\n",
    "from sklearn.model_selection import KFold,cross_val_score"
   ]
  },
  {
   "cell_type": "code",
   "execution_count": 2,
   "metadata": {},
   "outputs": [],
   "source": [
    "plt.style.use(\"seaborn-whitegrid\")\n",
    "\n",
    "# set the auc metric\n",
    "auc_scorer = make_scorer(roc_auc_score, greater_is_better=True, needs_proba=True)"
   ]
  },
  {
   "cell_type": "code",
   "execution_count": 3,
   "metadata": {},
   "outputs": [],
   "source": [
    "# load the data\n",
    "df_unnorm = pd.read_csv('unnormalized_train.csv', index_col=0)\n",
    "df_norm = pd.read_csv('normalized_train.csv')"
   ]
  },
  {
   "cell_type": "code",
   "execution_count": 4,
   "metadata": {},
   "outputs": [
    {
     "data": {
      "text/html": [
       "<div>\n",
       "<style scoped>\n",
       "    .dataframe tbody tr th:only-of-type {\n",
       "        vertical-align: middle;\n",
       "    }\n",
       "\n",
       "    .dataframe tbody tr th {\n",
       "        vertical-align: top;\n",
       "    }\n",
       "\n",
       "    .dataframe thead th {\n",
       "        text-align: right;\n",
       "    }\n",
       "</style>\n",
       "<table border=\"1\" class=\"dataframe\">\n",
       "  <thead>\n",
       "    <tr style=\"text-align: right;\">\n",
       "      <th></th>\n",
       "      <th>age</th>\n",
       "      <th>job</th>\n",
       "      <th>marital</th>\n",
       "      <th>education</th>\n",
       "      <th>default</th>\n",
       "      <th>housing</th>\n",
       "      <th>loan</th>\n",
       "      <th>contact</th>\n",
       "      <th>month</th>\n",
       "      <th>campaign</th>\n",
       "      <th>pdays</th>\n",
       "      <th>previous</th>\n",
       "      <th>poutcome</th>\n",
       "      <th>emp.var.rate</th>\n",
       "      <th>cons.price.idx</th>\n",
       "      <th>cons.conf.idx</th>\n",
       "      <th>euribor3m</th>\n",
       "      <th>nr.employed</th>\n",
       "      <th>y</th>\n",
       "    </tr>\n",
       "  </thead>\n",
       "  <tbody>\n",
       "    <tr>\n",
       "      <th>0</th>\n",
       "      <td>72.0</td>\n",
       "      <td>0</td>\n",
       "      <td>0</td>\n",
       "      <td>0</td>\n",
       "      <td>0</td>\n",
       "      <td>0</td>\n",
       "      <td>0</td>\n",
       "      <td>0</td>\n",
       "      <td>0</td>\n",
       "      <td>1</td>\n",
       "      <td>999</td>\n",
       "      <td>0</td>\n",
       "      <td>0</td>\n",
       "      <td>-1.8</td>\n",
       "      <td>93.075</td>\n",
       "      <td>-47.1</td>\n",
       "      <td>1.453</td>\n",
       "      <td>5099.1</td>\n",
       "      <td>0</td>\n",
       "    </tr>\n",
       "    <tr>\n",
       "      <th>1</th>\n",
       "      <td>30.0</td>\n",
       "      <td>1</td>\n",
       "      <td>1</td>\n",
       "      <td>1</td>\n",
       "      <td>0</td>\n",
       "      <td>1</td>\n",
       "      <td>0</td>\n",
       "      <td>1</td>\n",
       "      <td>1</td>\n",
       "      <td>1</td>\n",
       "      <td>999</td>\n",
       "      <td>0</td>\n",
       "      <td>0</td>\n",
       "      <td>-1.7</td>\n",
       "      <td>94.027</td>\n",
       "      <td>-38.3</td>\n",
       "      <td>0.886</td>\n",
       "      <td>4991.6</td>\n",
       "      <td>0</td>\n",
       "    </tr>\n",
       "    <tr>\n",
       "      <th>2</th>\n",
       "      <td>31.0</td>\n",
       "      <td>2</td>\n",
       "      <td>0</td>\n",
       "      <td>1</td>\n",
       "      <td>0</td>\n",
       "      <td>1</td>\n",
       "      <td>0</td>\n",
       "      <td>1</td>\n",
       "      <td>1</td>\n",
       "      <td>4</td>\n",
       "      <td>999</td>\n",
       "      <td>0</td>\n",
       "      <td>0</td>\n",
       "      <td>1.4</td>\n",
       "      <td>93.444</td>\n",
       "      <td>-36.1</td>\n",
       "      <td>4.966</td>\n",
       "      <td>5228.1</td>\n",
       "      <td>0</td>\n",
       "    </tr>\n",
       "    <tr>\n",
       "      <th>3</th>\n",
       "      <td>37.0</td>\n",
       "      <td>1</td>\n",
       "      <td>0</td>\n",
       "      <td>2</td>\n",
       "      <td>0</td>\n",
       "      <td>1</td>\n",
       "      <td>1</td>\n",
       "      <td>1</td>\n",
       "      <td>2</td>\n",
       "      <td>1</td>\n",
       "      <td>999</td>\n",
       "      <td>0</td>\n",
       "      <td>0</td>\n",
       "      <td>-3.4</td>\n",
       "      <td>92.649</td>\n",
       "      <td>-30.1</td>\n",
       "      <td>0.722</td>\n",
       "      <td>5017.5</td>\n",
       "      <td>0</td>\n",
       "    </tr>\n",
       "    <tr>\n",
       "      <th>4</th>\n",
       "      <td>53.0</td>\n",
       "      <td>2</td>\n",
       "      <td>2</td>\n",
       "      <td>3</td>\n",
       "      <td>1</td>\n",
       "      <td>0</td>\n",
       "      <td>0</td>\n",
       "      <td>0</td>\n",
       "      <td>3</td>\n",
       "      <td>2</td>\n",
       "      <td>999</td>\n",
       "      <td>0</td>\n",
       "      <td>0</td>\n",
       "      <td>1.1</td>\n",
       "      <td>93.994</td>\n",
       "      <td>-36.4</td>\n",
       "      <td>4.860</td>\n",
       "      <td>5191.0</td>\n",
       "      <td>0</td>\n",
       "    </tr>\n",
       "  </tbody>\n",
       "</table>\n",
       "</div>"
      ],
      "text/plain": [
       "    age  job  marital  education  default  housing  loan  contact  month  \\\n",
       "0  72.0    0        0          0        0        0     0        0      0   \n",
       "1  30.0    1        1          1        0        1     0        1      1   \n",
       "2  31.0    2        0          1        0        1     0        1      1   \n",
       "3  37.0    1        0          2        0        1     1        1      2   \n",
       "4  53.0    2        2          3        1        0     0        0      3   \n",
       "\n",
       "   campaign  pdays  previous  poutcome  emp.var.rate  cons.price.idx  \\\n",
       "0         1    999         0         0          -1.8          93.075   \n",
       "1         1    999         0         0          -1.7          94.027   \n",
       "2         4    999         0         0           1.4          93.444   \n",
       "3         1    999         0         0          -3.4          92.649   \n",
       "4         2    999         0         0           1.1          93.994   \n",
       "\n",
       "   cons.conf.idx  euribor3m  nr.employed  y  \n",
       "0          -47.1      1.453       5099.1  0  \n",
       "1          -38.3      0.886       4991.6  0  \n",
       "2          -36.1      4.966       5228.1  0  \n",
       "3          -30.1      0.722       5017.5  0  \n",
       "4          -36.4      4.860       5191.0  0  "
      ]
     },
     "execution_count": 4,
     "metadata": {},
     "output_type": "execute_result"
    }
   ],
   "source": [
    "df_unnorm.head()"
   ]
  },
  {
   "cell_type": "code",
   "execution_count": 5,
   "metadata": {},
   "outputs": [
    {
     "data": {
      "text/html": [
       "<div>\n",
       "<style scoped>\n",
       "    .dataframe tbody tr th:only-of-type {\n",
       "        vertical-align: middle;\n",
       "    }\n",
       "\n",
       "    .dataframe tbody tr th {\n",
       "        vertical-align: top;\n",
       "    }\n",
       "\n",
       "    .dataframe thead th {\n",
       "        text-align: right;\n",
       "    }\n",
       "</style>\n",
       "<table border=\"1\" class=\"dataframe\">\n",
       "  <thead>\n",
       "    <tr style=\"text-align: right;\">\n",
       "      <th></th>\n",
       "      <th>age</th>\n",
       "      <th>job</th>\n",
       "      <th>marital</th>\n",
       "      <th>education</th>\n",
       "      <th>default</th>\n",
       "      <th>housing</th>\n",
       "      <th>loan</th>\n",
       "      <th>contact</th>\n",
       "      <th>month</th>\n",
       "      <th>campaign</th>\n",
       "      <th>pdays</th>\n",
       "      <th>previous</th>\n",
       "      <th>poutcome</th>\n",
       "      <th>emp.var.rate</th>\n",
       "      <th>cons.price.idx</th>\n",
       "      <th>cons.conf.idx</th>\n",
       "      <th>euribor3m</th>\n",
       "      <th>nr.employed</th>\n",
       "      <th>y</th>\n",
       "    </tr>\n",
       "  </thead>\n",
       "  <tbody>\n",
       "    <tr>\n",
       "      <th>0</th>\n",
       "      <td>72.0</td>\n",
       "      <td>0</td>\n",
       "      <td>0</td>\n",
       "      <td>0</td>\n",
       "      <td>0</td>\n",
       "      <td>0</td>\n",
       "      <td>0</td>\n",
       "      <td>0</td>\n",
       "      <td>0</td>\n",
       "      <td>1</td>\n",
       "      <td>999</td>\n",
       "      <td>0</td>\n",
       "      <td>0</td>\n",
       "      <td>0.333333</td>\n",
       "      <td>0.340608</td>\n",
       "      <td>0.154812</td>\n",
       "      <td>0.185672</td>\n",
       "      <td>0.512287</td>\n",
       "      <td>0</td>\n",
       "    </tr>\n",
       "    <tr>\n",
       "      <th>1</th>\n",
       "      <td>30.0</td>\n",
       "      <td>1</td>\n",
       "      <td>1</td>\n",
       "      <td>1</td>\n",
       "      <td>0</td>\n",
       "      <td>1</td>\n",
       "      <td>0</td>\n",
       "      <td>1</td>\n",
       "      <td>1</td>\n",
       "      <td>1</td>\n",
       "      <td>999</td>\n",
       "      <td>0</td>\n",
       "      <td>0</td>\n",
       "      <td>0.354167</td>\n",
       "      <td>0.711613</td>\n",
       "      <td>0.523013</td>\n",
       "      <td>0.057130</td>\n",
       "      <td>0.105860</td>\n",
       "      <td>0</td>\n",
       "    </tr>\n",
       "    <tr>\n",
       "      <th>2</th>\n",
       "      <td>31.0</td>\n",
       "      <td>2</td>\n",
       "      <td>0</td>\n",
       "      <td>1</td>\n",
       "      <td>0</td>\n",
       "      <td>1</td>\n",
       "      <td>0</td>\n",
       "      <td>1</td>\n",
       "      <td>1</td>\n",
       "      <td>4</td>\n",
       "      <td>999</td>\n",
       "      <td>0</td>\n",
       "      <td>0</td>\n",
       "      <td>1.000000</td>\n",
       "      <td>0.484412</td>\n",
       "      <td>0.615063</td>\n",
       "      <td>0.982090</td>\n",
       "      <td>1.000000</td>\n",
       "      <td>0</td>\n",
       "    </tr>\n",
       "    <tr>\n",
       "      <th>3</th>\n",
       "      <td>37.0</td>\n",
       "      <td>1</td>\n",
       "      <td>0</td>\n",
       "      <td>2</td>\n",
       "      <td>0</td>\n",
       "      <td>1</td>\n",
       "      <td>1</td>\n",
       "      <td>1</td>\n",
       "      <td>2</td>\n",
       "      <td>1</td>\n",
       "      <td>999</td>\n",
       "      <td>0</td>\n",
       "      <td>0</td>\n",
       "      <td>0.000000</td>\n",
       "      <td>0.174591</td>\n",
       "      <td>0.866109</td>\n",
       "      <td>0.019950</td>\n",
       "      <td>0.203781</td>\n",
       "      <td>0</td>\n",
       "    </tr>\n",
       "    <tr>\n",
       "      <th>4</th>\n",
       "      <td>53.0</td>\n",
       "      <td>2</td>\n",
       "      <td>2</td>\n",
       "      <td>3</td>\n",
       "      <td>1</td>\n",
       "      <td>0</td>\n",
       "      <td>0</td>\n",
       "      <td>0</td>\n",
       "      <td>3</td>\n",
       "      <td>2</td>\n",
       "      <td>999</td>\n",
       "      <td>0</td>\n",
       "      <td>0</td>\n",
       "      <td>0.937500</td>\n",
       "      <td>0.698753</td>\n",
       "      <td>0.602510</td>\n",
       "      <td>0.958059</td>\n",
       "      <td>0.859735</td>\n",
       "      <td>0</td>\n",
       "    </tr>\n",
       "  </tbody>\n",
       "</table>\n",
       "</div>"
      ],
      "text/plain": [
       "    age  job  marital  education  default  housing  loan  contact  month  \\\n",
       "0  72.0    0        0          0        0        0     0        0      0   \n",
       "1  30.0    1        1          1        0        1     0        1      1   \n",
       "2  31.0    2        0          1        0        1     0        1      1   \n",
       "3  37.0    1        0          2        0        1     1        1      2   \n",
       "4  53.0    2        2          3        1        0     0        0      3   \n",
       "\n",
       "   campaign  pdays  previous  poutcome  emp.var.rate  cons.price.idx  \\\n",
       "0         1    999         0         0      0.333333        0.340608   \n",
       "1         1    999         0         0      0.354167        0.711613   \n",
       "2         4    999         0         0      1.000000        0.484412   \n",
       "3         1    999         0         0      0.000000        0.174591   \n",
       "4         2    999         0         0      0.937500        0.698753   \n",
       "\n",
       "   cons.conf.idx  euribor3m  nr.employed  y  \n",
       "0       0.154812   0.185672     0.512287  0  \n",
       "1       0.523013   0.057130     0.105860  0  \n",
       "2       0.615063   0.982090     1.000000  0  \n",
       "3       0.866109   0.019950     0.203781  0  \n",
       "4       0.602510   0.958059     0.859735  0  "
      ]
     },
     "execution_count": 5,
     "metadata": {},
     "output_type": "execute_result"
    }
   ],
   "source": [
    "df_norm.head()"
   ]
  },
  {
   "cell_type": "code",
   "execution_count": 6,
   "metadata": {},
   "outputs": [
    {
     "name": "stdout",
     "output_type": "stream",
     "text": [
      "Important features are: Index(['default', 'contact', 'campaign', 'pdays', 'previous', 'poutcome',\n",
      "       'emp.var.rate', 'cons.price.idx', 'euribor3m', 'nr.employed'],\n",
      "      dtype='object')\n"
     ]
    }
   ],
   "source": [
    "#################### Unnormalized data ####################\n",
    "# Splitting the data into train and test\n",
    "X_train_un, X_test_un, y_train, y_test = train_test_split(df_unnorm.iloc[:,:-1], df_unnorm.iloc[:,-1], test_size=0.2, random_state=42)\n",
    "\n",
    "# use filter method to select the important features\n",
    "selector = SelectKBest(f_classif, k=10)\n",
    "selector.fit(X_train_un, y_train)\n",
    "important_features_idx = selector.get_support()\n",
    "important_features = np.where(important_features_idx)[0]\n",
    "print(\"Important features are:\", df_unnorm.columns[important_features])\n",
    "\n",
    "# select the important features as the input of the model\n",
    "X_train_selected_un = X_train_un.iloc[:,important_features]\n",
    "X_test_selected_un = X_test_un.iloc[:,important_features]"
   ]
  },
  {
   "cell_type": "code",
   "execution_count": 7,
   "metadata": {},
   "outputs": [
    {
     "name": "stdout",
     "output_type": "stream",
     "text": [
      "Important features are: Index(['default', 'contact', 'campaign', 'pdays', 'previous', 'poutcome',\n",
      "       'emp.var.rate', 'cons.price.idx', 'euribor3m', 'nr.employed'],\n",
      "      dtype='object')\n"
     ]
    }
   ],
   "source": [
    "#################### Normalized data ####################\n",
    "# Splitting the data into train and test\n",
    "X_train, X_test, y_train, y_test = train_test_split(df_norm.iloc[:,:-1], df_norm.iloc[:,-1], test_size=0.2, random_state=42)\n",
    "\n",
    "# use filter method to select the important features\n",
    "selector = SelectKBest(f_classif, k=10)\n",
    "selector.fit(X_train, y_train)\n",
    "important_features_idx = selector.get_support()\n",
    "important_features = np.where(important_features_idx)[0]\n",
    "print(\"Important features are:\", df_unnorm.columns[important_features])\n",
    "\n",
    "# select the important features as the input of the model\n",
    "X_train_selected = X_train.iloc[:,important_features]\n",
    "X_test_selected = X_test.iloc[:,important_features]"
   ]
  },
  {
   "attachments": {},
   "cell_type": "markdown",
   "metadata": {},
   "source": [
    "# Decision Tree"
   ]
  },
  {
   "attachments": {},
   "cell_type": "markdown",
   "metadata": {},
   "source": [
    "Normalized data with feature selection"
   ]
  },
  {
   "cell_type": "code",
   "execution_count": 8,
   "metadata": {},
   "outputs": [
    {
     "name": "stdout",
     "output_type": "stream",
     "text": [
      "The best max_depth：10\n",
      "The best min_samples_split：40\n",
      "The best min_samples_leaf：10\n",
      "The accuracy on the training set：0.8665584873923116\n",
      "Mean AUC score of the ROC curve: 0.93\n"
     ]
    }
   ],
   "source": [
    "# Decision Tree Classifier\n",
    "dt_clf = DecisionTreeClassifier(random_state=42)\n",
    "\n",
    "# Set the parameters\n",
    "param_grid = {'min_samples_split': range(20, 201, 10),  # from 20 to 200 with step 10\n",
    "                'min_samples_leaf': range(10, 101, 10),\n",
    "                'max_depth': range(1, 11)}  # try max_depth from 1 to 10\n",
    "\n",
    "# Use grid search to find the best parameters\n",
    "grid_search = GridSearchCV(dt_clf, param_grid, cv=5, scoring='accuracy', n_jobs=-1)\n",
    "grid_search.fit(X_train_selected, y_train)\n",
    "\n",
    "# Calculate the auc score under 5-fold cross validation\n",
    "auc_scores = cross_val_score(grid_search, X_train_selected, y_train, cv=5, scoring=auc_scorer)\n",
    "\n",
    "# Calculate the mean auc score\n",
    "mean_auc = np.mean(auc_scores)\n",
    "\n",
    "# Print the best parameters, accuracy and the best auc score\n",
    "print(f\"The best max_depth：{grid_search.best_params_['max_depth']}\")\n",
    "print(f\"The best min_samples_split：{grid_search.best_params_['min_samples_split']}\")\n",
    "print(f\"The best min_samples_leaf：{grid_search.best_params_['min_samples_leaf']}\")\n",
    "print(f\"The accuracy on the training set：{grid_search.best_score_}\")\n",
    "print(\"Mean AUC score of the ROC curve: {:.2f}\".format(mean_auc))"
   ]
  },
  {
   "cell_type": "code",
   "execution_count": 9,
   "metadata": {},
   "outputs": [
    {
     "data": {
      "image/png": "[encoded data removed]",
      "text/plain": [
       "<Figure size 432x288 with 1 Axes>"
      ]
     },
     "metadata": {},
     "output_type": "display_data"
    }
   ],
   "source": [
    "# Plot the ROC curve\n",
    "fpr, tpr, _ = roc_curve(y_test, grid_search.predict_proba(X_test_selected)[:, 1])\n",
    "roc_auc = auc(fpr, tpr)\n",
    "\n",
    "plt.plot(fpr, tpr, color='darkorange', lw=2, label='ROC curve (area = %0.2f)' % roc_auc)\n",
    "plt.plot([0, 1], [0, 1], color='navy', lw=2, linestyle='--')\n",
    "plt.xlabel('False Positive Rate')\n",
    "plt.ylabel('True Positive Rate')\n",
    "plt.title('ROC curve and AUC for Decision Tree')\n",
    "plt.legend(loc=\"lower right\")\n",
    "plt.show()"
   ]
  },
  {
   "cell_type": "code",
   "execution_count": 10,
   "metadata": {},
   "outputs": [
    {
     "name": "stdout",
     "output_type": "stream",
     "text": [
      "The accuracy on test set：0.8624714234147516\n"
     ]
    }
   ],
   "source": [
    "# Evaluate the model on test set\n",
    "y_pred = grid_search.predict(X_test_selected)\n",
    "test_accuracy = accuracy_score(y_test, y_pred)\n",
    "print(f\"The accuracy on test set：{test_accuracy}\")"
   ]
  },
  {
   "attachments": {},
   "cell_type": "markdown",
   "metadata": {},
   "source": [
    "# Linear Perceptron"
   ]
  },
  {
   "attachments": {},
   "cell_type": "markdown",
   "metadata": {},
   "source": [
    "Normalized data with feature selection"
   ]
  },
  {
   "cell_type": "code",
   "execution_count": 16,
   "metadata": {},
   "outputs": [
    {
     "name": "stdout",
     "output_type": "stream",
     "text": [
      "The best parameters found:  {'eta0': 0.0001, 'max_iter': 50}\n",
      "The accuracy on the training set：0.5498320775687341\n",
      "Mean AUC score of the ROC curve: 0.65\n"
     ]
    }
   ],
   "source": [
    "# Linear perceptron Classifier\n",
    "clf = Perceptron(random_state=42)\n",
    "\n",
    "# Set the parameters\n",
    "param_grid = {\n",
    "    'eta0': [0.0001, 0.001, 0.01, 0.1],\n",
    "    'max_iter': [10, 50, 100, 200, 500, 1000],\n",
    "}\n",
    "\n",
    "# Use grid search to find the best hyperparameter combination\n",
    "grid_search = GridSearchCV(clf, param_grid, cv=5, scoring='accuracy', n_jobs=-1)\n",
    "grid_search.fit(X_train_selected, y_train)\n",
    "\n",
    "# Calculate the auc score under 5-fold cross validation\n",
    "auc_scorer = make_scorer(roc_auc_score, greater_is_better=True, needs_proba=False, needs_threshold=True)\n",
    "\n",
    "# Calculate the mean auc score\n",
    "mean_auc = np.mean(auc_scores)\n",
    "\n",
    "# Print the best parameter combination, the accuracy and the best auc score\n",
    "print(\"The best parameters found: \", grid_search.best_params_)\n",
    "print(f\"The accuracy on the training set：{grid_search.best_score_}\")\n",
    "print(\"Mean AUC score of the ROC curve: {:.2f}\".format(mean_auc))\n"
   ]
  },
  {
   "cell_type": "code",
   "execution_count": 17,
   "metadata": {},
   "outputs": [
    {
     "data": {
      "image/png": "[encoded data removed]",
      "text/plain": [
       "<Figure size 432x288 with 1 Axes>"
      ]
     },
     "metadata": {},
     "output_type": "display_data"
    }
   ],
   "source": [
    "# plot the ROC curve\n",
    "fpr, tpr, _ = roc_curve(y_test, grid_search.decision_function(X_test_selected))\n",
    "roc_auc = auc(fpr, tpr)\n",
    "\n",
    "plt.plot(fpr, tpr, color='darkorange', lw=2, label='ROC curve (area = %0.2f)' % roc_auc)\n",
    "plt.plot([0, 1], [0, 1], color='navy', lw=2, linestyle='--')\n",
    "plt.xlabel('False Positive Rate')\n",
    "plt.ylabel('True Positive Rate')\n",
    "plt.title('ROC curve and AUC for Linear Perceptron')\n",
    "plt.legend(loc=\"lower right\")\n",
    "plt.show()\n"
   ]
  },
  {
   "cell_type": "code",
   "execution_count": 18,
   "metadata": {},
   "outputs": [
    {
     "name": "stdout",
     "output_type": "stream",
     "text": [
      "The accuracy on test set：0.5941523282396823\n"
     ]
    }
   ],
   "source": [
    "# Evaluate the model on test set\n",
    "y_pred = grid_search.predict(X_test_selected)\n",
    "test_accuracy = accuracy_score(y_test, y_pred)\n",
    "print(f\"The accuracy on test set：{test_accuracy}\")"
   ]
  },
  {
   "attachments": {},
   "cell_type": "markdown",
   "metadata": {},
   "source": [
    "# Linear Regression"
   ]
  },
  {
   "attachments": {},
   "cell_type": "markdown",
   "metadata": {},
   "source": [
    "Normalized data without feature selection"
   ]
  },
  {
   "cell_type": "code",
   "execution_count": 26,
   "metadata": {},
   "outputs": [],
   "source": [
    "auc_scorer = make_scorer(roc_auc_score, greater_is_better=True, needs_proba=True)"
   ]
  },
  {
   "cell_type": "code",
   "execution_count": 28,
   "metadata": {},
   "outputs": [
    {
     "name": "stdout",
     "output_type": "stream",
     "text": [
      "The best parameters found:  {'C': 0.3593813663804626, 'penalty': 'l1'}\n",
      "The accuracy on the training set：0.7508950931158906\n",
      "Mean AUC score of the ROC curve: 0.83\n"
     ]
    }
   ],
   "source": [
    "# Logistic Regression Classifier\n",
    "lr = LogisticRegression(solver='liblinear',max_iter=1000, random_state=42)\n",
    "\n",
    "# Set the parameters\n",
    "param_grid = {\n",
    "    'C': np.logspace(-4, 4, 10),\n",
    "    'penalty': ['l1', 'l2']\n",
    "}\n",
    "\n",
    "# Use grid search to find the best hyperparameter combination\n",
    "grid_search = GridSearchCV(lr, param_grid, scoring='accuracy', cv=5, n_jobs=-1)\n",
    "grid_search.fit(X_train, y_train)\n",
    "\n",
    "# Calculate the auc score under 5-fold cross validation\n",
    "auc_scores = cross_val_score(grid_search, X_train, y_train, cv=5, scoring=auc_scorer)\n",
    "\n",
    "# Calculate the mean auc score\n",
    "mean_auc = np.mean(auc_scores)\n",
    "\n",
    "#  Print the best parameter combination, the accuracy and the best auc score\n",
    "print(\"The best parameters found: \", grid_search.best_params_)\n",
    "print(f\"The accuracy on the training set：{grid_search.best_score_}\")\n",
    "print(\"Mean AUC score of the ROC curve: {:.2f}\".format(mean_auc))"
   ]
  },
  {
   "cell_type": "code",
   "execution_count": 31,
   "metadata": {},
   "outputs": [
    {
     "data": {
      "image/png": "[encoded data removed]",
      "text/plain": [
       "<Figure size 432x288 with 1 Axes>"
      ]
     },
     "metadata": {},
     "output_type": "display_data"
    }
   ],
   "source": [
    "# Plot the ROC curve\n",
    "fpr, tpr, _ = roc_curve(y_test, grid_search.predict_proba(X_test)[:, 1])\n",
    "roc_auc = auc(fpr, tpr)\n",
    "\n",
    "plt.plot(fpr, tpr, color='darkorange', lw=2, label='ROC curve (area = %0.2f)' % roc_auc)\n",
    "plt.plot([0, 1], [0, 1], color='navy', lw=2, linestyle='--')\n",
    "plt.xlabel('False Positive Rate')\n",
    "plt.ylabel('True Positive Rate')\n",
    "plt.title('ROC curve and AUC for Logistic Regression')\n",
    "plt.legend(loc=\"lower right\")\n",
    "plt.show()"
   ]
  },
  {
   "cell_type": "code",
   "execution_count": null,
   "metadata": {},
   "outputs": [],
   "source": [
    "# Evaluate the model on test set\n",
    "y_pred = grid_search.predict(X_test)\n",
    "test_accuracy = accuracy_score(y_test, y_pred)\n",
    "print(f\"The accuracy on test set：{test_accuracy}\")"
   ]
  },
  {
   "attachments": {},
   "cell_type": "markdown",
   "metadata": {},
   "source": [
    "# SVM "
   ]
  },
  {
   "attachments": {},
   "cell_type": "markdown",
   "metadata": {},
   "source": [
    "Normalized data without feature selection"
   ]
  },
  {
   "cell_type": "code",
   "execution_count": 6,
   "metadata": {},
   "outputs": [
    {
     "name": "stdout",
     "output_type": "stream",
     "text": [
      "The best parameters found:  {'C': 1, 'gamma': 1.0}\n",
      "The accuracy on the training set：0.8733869754850353\n"
     ]
    }
   ],
   "source": [
    "# SVM Classifier\n",
    "svc = SVC()\n",
    "\n",
    "param_grid = {\n",
    "    'C': [0.001,0.005, 0.1, 1],\n",
    "    'gamma': ['scale', 'auto'] + list(np.logspace(-3, 3, 7))\n",
    "}\n",
    "\n",
    "svc = SVC(kernel='rbf', probability=True)\n",
    "grid_search = GridSearchCV(estimator=svc, param_grid=param_grid, scoring='accuracy', cv=5, n_jobs=-1)\n",
    "grid_search.fit(X_train, y_train)\n",
    "\n",
    "# Print the best parameter, the accuracy and the best auc score\n",
    "print(\"The best parameters found: \", grid_search.best_params_)\n",
    "print(f\"The accuracy on the training set：{grid_search.best_score_}\")"
   ]
  },
  {
   "cell_type": "code",
   "execution_count": 23,
   "metadata": {},
   "outputs": [
    {
     "name": "stdout",
     "output_type": "stream",
     "text": [
      "Mean AUC score of the ROC curve: 0.91\n"
     ]
    }
   ],
   "source": [
    "best_svc = SVC(kernel='rbf', C=1, gamma=1, probability=True)\n",
    "best_svc.fit(X_train, y_train)\n",
    "\n",
    "# Calculate the auc score under 5-fold cross validation\n",
    "auc_scorer = make_scorer(roc_auc_score, greater_is_better=True, needs_proba=False, needs_threshold=True)\n",
    "auc_scores = cross_val_score(grid_search, X_train_un, y_train, cv=5, scoring=auc_scorer)\n",
    "\n",
    "# Calculate the mean auc score\n",
    "mean_auc = np.mean(auc_scores)\n",
    "\n",
    "print(\"Mean AUC score of the ROC curve: {:.2f}\".format(mean_auc))"
   ]
  },
  {
   "cell_type": "code",
   "execution_count": 25,
   "metadata": {},
   "outputs": [
    {
     "data": {
      "image/png": "[encoded data removed]",
      "text/plain": [
       "<Figure size 432x288 with 1 Axes>"
      ]
     },
     "metadata": {},
     "output_type": "display_data"
    }
   ],
   "source": [
    "# Plot the ROC curve\n",
    "fpr, tpr, _ = roc_curve(y_test, best_svc.predict_proba(X_test)[:, 1])\n",
    "roc_auc = auc(fpr, tpr)\n",
    "\n",
    "plt.plot(fpr, tpr, color='darkorange', lw=2, label='ROC curve (area = %0.2f)' % roc_auc)\n",
    "plt.plot([0, 1], [0, 1], color='navy', lw=2, linestyle='--')\n",
    "plt.xlabel('False Positive Rate')\n",
    "plt.ylabel('True Positive Rate')\n",
    "plt.title('ROC curve and AUC for Naive Bayes')\n",
    "plt.legend(loc=\"lower right\")\n",
    "plt.show()"
   ]
  },
  {
   "cell_type": "code",
   "execution_count": 27,
   "metadata": {},
   "outputs": [
    {
     "name": "stdout",
     "output_type": "stream",
     "text": [
      "The accuracy on test set：0.8878594633618097\n"
     ]
    }
   ],
   "source": [
    "# Evaluate the model on test set\n",
    "y_pred = best_svc.predict(X_test)\n",
    "test_accuracy = accuracy_score(y_test, y_pred)\n",
    "print(f\"The accuracy on test set：{test_accuracy}\")"
   ]
  },
  {
   "attachments": {},
   "cell_type": "markdown",
   "metadata": {},
   "source": [
    "# Naïve Bayes"
   ]
  },
  {
   "attachments": {},
   "cell_type": "markdown",
   "metadata": {},
   "source": [
    "Unnormalized data without feature selection"
   ]
  },
  {
   "cell_type": "code",
   "execution_count": 22,
   "metadata": {},
   "outputs": [
    {
     "name": "stdout",
     "output_type": "stream",
     "text": [
      "The best parameters found:  {'priors': [0.6, 0.4]}\n",
      "The accuracy on the training set：0.7484283305633576\n",
      "Mean AUC score of the ROC curve: 0.83\n"
     ]
    }
   ],
   "source": [
    "# Naive Bayes Classifier\n",
    "gnb = GaussianNB()\n",
    "\n",
    "param_grid = {'priors': [None, [0.2, 0.8], [0.4, 0.6], [0.6, 0.4], [0.8, 0.2]]}\n",
    "grid_search = GridSearchCV(gnb, param_grid=param_grid, cv=5, scoring='accuracy', n_jobs=-1)\n",
    "grid_search.fit(X_train_un, y_train)\n",
    "\n",
    "# Calculate the auc score under 5-fold cross validation\n",
    "auc_scores = cross_val_score(grid_search, X_train_un, y_train, cv=5, scoring=auc_scorer)\n",
    "\n",
    "# Calculate the mean auc score\n",
    "mean_auc = np.mean(auc_scores)\n",
    "\n",
    "# Print the best parameter, the accuracy and the best auc score\n",
    "print(\"The best parameters found: \", grid_search.best_params_)\n",
    "print(f\"The accuracy on the training set：{grid_search.best_score_}\")\n",
    "print(\"Mean AUC score of the ROC curve: {:.2f}\".format(mean_auc))"
   ]
  },
  {
   "cell_type": "code",
   "execution_count": 24,
   "metadata": {},
   "outputs": [
    {
     "data": {
      "image/png": "[encoded data removed]",
      "text/plain": [
       "<Figure size 432x288 with 1 Axes>"
      ]
     },
     "metadata": {},
     "output_type": "display_data"
    }
   ],
   "source": [
    "# Plot the ROC curve\n",
    "fpr, tpr, _ = roc_curve(y_test, grid_search.predict_proba(X_test_un)[:, 1])\n",
    "roc_auc = auc(fpr, tpr)\n",
    "\n",
    "plt.plot(fpr, tpr, color='darkorange', lw=2, label='ROC curve (area = %0.2f)' % roc_auc)\n",
    "plt.plot([0, 1], [0, 1], color='navy', lw=2, linestyle='--')\n",
    "plt.xlabel('False Positive Rate')\n",
    "plt.ylabel('True Positive Rate')\n",
    "plt.title('ROC curve and AUC for Naive Bayes')\n",
    "plt.legend(loc=\"lower right\")\n",
    "plt.show()"
   ]
  },
  {
   "cell_type": "code",
   "execution_count": 25,
   "metadata": {},
   "outputs": [
    {
     "name": "stdout",
     "output_type": "stream",
     "text": [
      "The accuracy on test set：0.7527373360606425\n"
     ]
    }
   ],
   "source": [
    "# Evaluate the model on test set\n",
    "y_pred = grid_search.predict(X_test_un)\n",
    "test_accuracy = accuracy_score(y_test, y_pred)\n",
    "print(f\"The accuracy on test set：{test_accuracy}\")"
   ]
  },
  {
   "attachments": {},
   "cell_type": "markdown",
   "metadata": {},
   "source": [
    "# KNN"
   ]
  },
  {
   "attachments": {},
   "cell_type": "markdown",
   "metadata": {},
   "source": [
    "Normalized data with feature selection"
   ]
  },
  {
   "cell_type": "code",
   "execution_count": 14,
   "metadata": {},
   "outputs": [
    {
     "name": "stdout",
     "output_type": "stream",
     "text": [
      "The best parameters found:  {'metric': 'euclidean', 'n_neighbors': 4, 'weights': 'distance'}\n",
      "The accuracy on the training set：0.8849381592266438\n",
      "Mean AUC score of the ROC curve: 0.91\n"
     ]
    }
   ],
   "source": [
    "# KNN Classifier\n",
    "knn = KNeighborsClassifier()\n",
    "\n",
    "# Set the parameters\n",
    "param_grid = {\n",
    "    'n_neighbors': np.arange(1, 31),\n",
    "    'weights': ['uniform', 'distance'],\n",
    "    'metric': ['euclidean', 'manhattan', 'chebyshev', 'minkowski']\n",
    "}\n",
    "\n",
    "# Use grid search to find the best hyperparameter combination\n",
    "grid_search = GridSearchCV(knn, param_grid, scoring='accuracy', cv=5)\n",
    "grid_search.fit(X_train_selected, y_train)\n",
    "\n",
    "# Calculate the auc score under 5-fold cross validation\n",
    "auc_scores = cross_val_score(grid_search, X_train_selected, y_train, cv=5, scoring=auc_scorer)\n",
    "\n",
    "# Calculate the mean auc score\n",
    "mean_auc = np.mean(auc_scores)\n",
    "\n",
    "# Print the best parameter, the accuracy and the best auc score\n",
    "print(\"The best parameters found: \", grid_search.best_params_)\n",
    "print(f\"The accuracy on the training set：{grid_search.best_score_}\")\n",
    "print(\"Mean AUC score of the ROC curve: {:.2f}\".format(mean_auc))"
   ]
  },
  {
   "cell_type": "code",
   "execution_count": 15,
   "metadata": {},
   "outputs": [
    {
     "data": {
      "image/png": "[encoded data removed]",
      "text/plain": [
       "<Figure size 432x288 with 1 Axes>"
      ]
     },
     "metadata": {},
     "output_type": "display_data"
    }
   ],
   "source": [
    "# Plot the ROC curve\n",
    "fpr, tpr, _ = roc_curve(y_test, grid_search.predict_proba(X_test_selected)[:, 1])\n",
    "roc_auc = auc(fpr, tpr)\n",
    "\n",
    "plt.plot(fpr, tpr, color='darkorange', lw=2, label='ROC curve (area = %0.2f)' % roc_auc)\n",
    "plt.plot([0, 1], [0, 1], color='navy', lw=2, linestyle='--')\n",
    "plt.xlabel('False Positive Rate')\n",
    "plt.ylabel('True Positive Rate')\n",
    "plt.title('ROC curve and AUC for KNN')\n",
    "plt.legend(loc=\"lower right\")\n",
    "plt.show()"
   ]
  },
  {
   "cell_type": "code",
   "execution_count": 16,
   "metadata": {},
   "outputs": [
    {
     "name": "stdout",
     "output_type": "stream",
     "text": [
      "The accuracy on test set：0.8870172061123812\n"
     ]
    }
   ],
   "source": [
    "# Evaluate the model on test set\n",
    "y_pred = grid_search.predict(X_test_selected)\n",
    "test_accuracy = accuracy_score(y_test, y_pred)\n",
    "print(f\"The accuracy on test set：{test_accuracy}\")"
   ]
  },
  {
   "attachments": {},
   "cell_type": "markdown",
   "metadata": {},
   "source": [
    "---"
   ]
  },
  {
   "attachments": {},
   "cell_type": "markdown",
   "metadata": {},
   "source": [
    "# Prediction"
   ]
  },
  {
   "cell_type": "code",
   "execution_count": 41,
   "metadata": {},
   "outputs": [],
   "source": [
    "test_set = pd.read_csv('normalized_test.csv')\n",
    "X_pred_selected = test_set.iloc[:,important_features]"
   ]
  },
  {
   "cell_type": "code",
   "execution_count": 29,
   "metadata": {},
   "outputs": [
    {
     "name": "stdout",
     "output_type": "stream",
     "text": [
      "DataFrame has no missing values.\n"
     ]
    }
   ],
   "source": [
    "# check if there is any missing value\n",
    "has_null = X_pred_selected.isnull().any().any()\n",
    "\n",
    "if has_null:\n",
    "    print(\"DataFrame contains missing values.\")\n",
    "else:\n",
    "    print(\"DataFrame has no missing values.\")"
   ]
  },
  {
   "cell_type": "code",
   "execution_count": 30,
   "metadata": {},
   "outputs": [
    {
     "name": "stdout",
     "output_type": "stream",
     "text": [
      "Number of missing values in each column:\n",
      "default           0\n",
      "contact           0\n",
      "campaign          0\n",
      "pdays             0\n",
      "previous          0\n",
      "poutcome          0\n",
      "emp.var.rate      0\n",
      "cons.price.idx    0\n",
      "euribor3m         0\n",
      "nr.employed       0\n",
      "dtype: int64\n",
      "Total number of missing values in the DataFrame: 0\n"
     ]
    }
   ],
   "source": [
    "# compute the number of missing values in each column\n",
    "null_count = X_pred_selected.isnull().sum()\n",
    "\n",
    "# compute the total number of missing values\n",
    "total_null_count = null_count.sum()\n",
    "\n",
    "print(\"Number of missing values in each column:\")\n",
    "print(null_count)\n",
    "print(\"Total number of missing values in the DataFrame:\", total_null_count)\n",
    "\n",
    "# locate the rows with missing values\n",
    "for col in  X_pred_selected.columns:\n",
    "    # get the rows with missing values for the column\n",
    "    null_rows = X_pred_selected[X_pred_selected[col].isnull()].index\n",
    "    \n",
    "    if not null_rows.empty:\n",
    "        print(f\"Column '{col}' has missing values at row(s): {list(null_rows)}\")"
   ]
  },
  {
   "attachments": {},
   "cell_type": "markdown",
   "metadata": {},
   "source": [
    "## KNN pred"
   ]
  },
  {
   "cell_type": "code",
   "execution_count": 20,
   "metadata": {},
   "outputs": [
    {
     "data": {
      "text/html": [
       "<style>#sk-container-id-2 {color: black;background-color: white;}#sk-container-id-2 pre{padding: 0;}#sk-container-id-2 div.sk-toggleable {background-color: white;}#sk-container-id-2 label.sk-toggleable__label {cursor: pointer;display: block;width: 100%;margin-bottom: 0;padding: 0.3em;box-sizing: border-box;text-align: center;}#sk-container-id-2 label.sk-toggleable__label-arrow:before {content: \"▸\";float: left;margin-right: 0.25em;color: #696969;}#sk-container-id-2 label.sk-toggleable__label-arrow:hover:before {color: black;}#sk-container-id-2 div.sk-estimator:hover label.sk-toggleable__label-arrow:before {color: black;}#sk-container-id-2 div.sk-toggleable__content {max-height: 0;max-width: 0;overflow: hidden;text-align: left;background-color: #f0f8ff;}#sk-container-id-2 div.sk-toggleable__content pre {margin: 0.2em;color: black;border-radius: 0.25em;background-color: #f0f8ff;}#sk-container-id-2 input.sk-toggleable__control:checked~div.sk-toggleable__content {max-height: 200px;max-width: 100%;overflow: auto;}#sk-container-id-2 input.sk-toggleable__control:checked~label.sk-toggleable__label-arrow:before {content: \"▾\";}#sk-container-id-2 div.sk-estimator input.sk-toggleable__control:checked~label.sk-toggleable__label {background-color: #d4ebff;}#sk-container-id-2 div.sk-label input.sk-toggleable__control:checked~label.sk-toggleable__label {background-color: #d4ebff;}#sk-container-id-2 input.sk-hidden--visually {border: 0;clip: rect(1px 1px 1px 1px);clip: rect(1px, 1px, 1px, 1px);height: 1px;margin: -1px;overflow: hidden;padding: 0;position: absolute;width: 1px;}#sk-container-id-2 div.sk-estimator {font-family: monospace;background-color: #f0f8ff;border: 1px dotted black;border-radius: 0.25em;box-sizing: border-box;margin-bottom: 0.5em;}#sk-container-id-2 div.sk-estimator:hover {background-color: #d4ebff;}#sk-container-id-2 div.sk-parallel-item::after {content: \"\";width: 100%;border-bottom: 1px solid gray;flex-grow: 1;}#sk-container-id-2 div.sk-label:hover label.sk-toggleable__label {background-color: #d4ebff;}#sk-container-id-2 div.sk-serial::before {content: \"\";position: absolute;border-left: 1px solid gray;box-sizing: border-box;top: 0;bottom: 0;left: 50%;z-index: 0;}#sk-container-id-2 div.sk-serial {display: flex;flex-direction: column;align-items: center;background-color: white;padding-right: 0.2em;padding-left: 0.2em;position: relative;}#sk-container-id-2 div.sk-item {position: relative;z-index: 1;}#sk-container-id-2 div.sk-parallel {display: flex;align-items: stretch;justify-content: center;background-color: white;position: relative;}#sk-container-id-2 div.sk-item::before, #sk-container-id-2 div.sk-parallel-item::before {content: \"\";position: absolute;border-left: 1px solid gray;box-sizing: border-box;top: 0;bottom: 0;left: 50%;z-index: -1;}#sk-container-id-2 div.sk-parallel-item {display: flex;flex-direction: column;z-index: 1;position: relative;background-color: white;}#sk-container-id-2 div.sk-parallel-item:first-child::after {align-self: flex-end;width: 50%;}#sk-container-id-2 div.sk-parallel-item:last-child::after {align-self: flex-start;width: 50%;}#sk-container-id-2 div.sk-parallel-item:only-child::after {width: 0;}#sk-container-id-2 div.sk-dashed-wrapped {border: 1px dashed gray;margin: 0 0.4em 0.5em 0.4em;box-sizing: border-box;padding-bottom: 0.4em;background-color: white;}#sk-container-id-2 div.sk-label label {font-family: monospace;font-weight: bold;display: inline-block;line-height: 1.2em;}#sk-container-id-2 div.sk-label-container {text-align: center;}#sk-container-id-2 div.sk-container {/* jupyter's `normalize.less` sets `[hidden] { display: none; }` but bootstrap.min.css set `[hidden] { display: none !important; }` so we also need the `!important` here to be able to override the default hidden behavior on the sphinx rendered scikit-learn.org. See: https://github.com/scikit-learn/scikit-learn/issues/21755 */display: inline-block !important;position: relative;}#sk-container-id-2 div.sk-text-repr-fallback {display: none;}</style><div id=\"sk-container-id-2\" class=\"sk-top-container\"><div class=\"sk-text-repr-fallback\"><pre>KNeighborsClassifier(metric=&#x27;euclidean&#x27;, n_neighbors=4, weights=&#x27;distance&#x27;)</pre><b>In a Jupyter environment, please rerun this cell to show the HTML representation or trust the notebook. <br />On GitHub, the HTML representation is unable to render, please try loading this page with nbviewer.org.</b></div><div class=\"sk-container\" hidden><div class=\"sk-item\"><div class=\"sk-estimator sk-toggleable\"><input class=\"sk-toggleable__control sk-hidden--visually\" id=\"sk-estimator-id-2\" type=\"checkbox\" checked><label for=\"sk-estimator-id-2\" class=\"sk-toggleable__label sk-toggleable__label-arrow\">KNeighborsClassifier</label><div class=\"sk-toggleable__content\"><pre>KNeighborsClassifier(metric=&#x27;euclidean&#x27;, n_neighbors=4, weights=&#x27;distance&#x27;)</pre></div></div></div></div></div>"
      ],
      "text/plain": [
       "KNeighborsClassifier(metric='euclidean', n_neighbors=4, weights='distance')"
      ]
     },
     "execution_count": 20,
     "metadata": {},
     "output_type": "execute_result"
    }
   ],
   "source": [
    "best_knn = KNeighborsClassifier(metric='euclidean', n_neighbors=4, weights='distance')\n",
    "best_knn.fit(X_train_selected, y_train)"
   ]
  },
  {
   "cell_type": "code",
   "execution_count": 21,
   "metadata": {},
   "outputs": [
    {
     "name": "stderr",
     "output_type": "stream",
     "text": [
      "<ipython-input-21-17911ca0d904>:2: SettingWithCopyWarning: \n",
      "A value is trying to be set on a copy of a slice from a DataFrame.\n",
      "Try using .loc[row_indexer,col_indexer] = value instead\n",
      "\n",
      "See the caveats in the documentation: https://pandas.pydata.org/pandas-docs/stable/user_guide/indexing.html#returning-a-view-versus-a-copy\n",
      "  X_pred_selected['ranking_score'] = best_knn.predict_proba(X_pred_selected)[:, 1]\n"
     ]
    }
   ],
   "source": [
    "# use KNN to calculate the ranking score of test set\n",
    "X_pred_selected['ranking_score'] = best_knn.predict_proba(X_pred_selected)[:, 1]\n",
    "# select the ranking score as a single column\n",
    "result = X_pred_selected[['ranking_score']]\n",
    "\n",
    "# save the ranking score to csv file\n",
    "result.to_csv('ranking_score.csv', index=False)"
   ]
  },
  {
   "attachments": {},
   "cell_type": "markdown",
   "metadata": {},
   "source": [
    "## SVM pred"
   ]
  },
  {
   "cell_type": "code",
   "execution_count": 46,
   "metadata": {},
   "outputs": [],
   "source": [
    "# use SVM to calculate the ranking score of test set\n",
    "test_set['ranking_score'] = best_svc.predict_proba(test_set)[:, 1]\n",
    "# select the ranking score as a single column\n",
    "result = test_set[['ranking_score']]\n",
    "\n",
    "# save the ranking score to csv file\n",
    "result.to_csv('ranking_score.csv', index=False)"
   ]
  }
 ],
 "metadata": {
  "kernelspec": {
   "display_name": "base",
   "language": "python",
   "name": "python3"
  },
  "language_info": {
   "codemirror_mode": {
    "name": "ipython",
    "version": 3
   },
   "file_extension": ".py",
   "mimetype": "text/x-python",
   "name": "python",
   "nbconvert_exporter": "python",
   "pygments_lexer": "ipython3",
   "version": "3.8.5"
  },
  "orig_nbformat": 4
 },
 "nbformat": 4,
 "nbformat_minor": 2
}
